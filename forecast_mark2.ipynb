{
 "cells": [
  {
   "cell_type": "code",
   "execution_count": 3,
   "metadata": {
    "ExecuteTime": {
     "end_time": "2019-06-15T04:08:40.170702Z",
     "start_time": "2019-06-15T04:08:40.168209Z"
    }
   },
   "outputs": [],
   "source": [
    "import os.path as osp\n",
    "import pandas as pd\n",
    "import numpy as np\n",
    "import matplotlib.pyplot as plt\n",
    "import seaborn as sns\n",
    "import glob\n",
    "\n",
    "from datetime import datetime\n",
    "from datetime import timedelta\n",
    "from sklearn.model_selection import train_test_split\n",
    "from sklearn.metrics import mean_squared_error\n",
    "from xgboost import XGBRegressor"
   ]
  },
  {
   "cell_type": "markdown",
   "metadata": {},
   "source": [
    "## Calculate total solar production of Prosumers"
   ]
  },
  {
   "cell_type": "code",
   "execution_count": 4,
   "metadata": {},
   "outputs": [],
   "source": [
    "# Households --> Consumption Data (Power consumed by household)\n",
    "# Grid --> Grid Data, (Power into, Power from) \n",
    "# solar --> Consumption Data (Power Consumed by household appliances, Power consumed immediately from solar panels)\n",
    "\n",
    "# Test for a single household\n",
    "base_solar = osp.join('useful_solar', 'run_household_solar_1')\n",
    "grid = osp.join(base_solar, 'gridbalance2016.csv')\n",
    "solar = osp.join(base_solar, 'power2016_solar_module.csv')\n",
    "household = osp.join(base_solar, 'power2016Household.csv')\n",
    "griddata = pd.read_csv(grid, index_col=0)\n",
    "solardata = pd.read_csv(solar)\n",
    "householddata = pd.read_csv(household)"
   ]
  },
  {
   "cell_type": "code",
   "execution_count": 5,
   "metadata": {},
   "outputs": [],
   "source": [
    "# Read all household folders and load data for all households into one frame to calculate total solar production\n",
    "dfs = []\n",
    "for p in glob.glob('useful_solar/*'):\n",
    "    grid_balance = pd.read_csv(osp.join(p, 'gridbalance2016.csv'), usecols=[0, 3], index_col=0)\n",
    "    solar_module = pd.read_csv(osp.join(p, 'power2016_solar_module.csv'), usecols=[0, 3], index_col=0)\n",
    "    #Total Solar power produced = Power fed into grid + Solar Power consumed immediately by prosumers \n",
    "    production = grid_balance['Power into grid'] + solar_module['Solar Power used']\n",
    "    # A record of solar power production for every prosumer household\n",
    "    dfs.append(production.to_frame())\n",
    "\n",
    "dfs = pd.concat(dfs, axis=1)\n",
    "dfs.columns = ['production_h' + p.split('_')[-1] for p in glob.glob('useful_solar/*')]"
   ]
  },
  {
   "cell_type": "code",
   "execution_count": 6,
   "metadata": {},
   "outputs": [],
   "source": [
    "# Link with Date time module\n",
    "dt = [datetime(2016, 1, 1)]\n",
    "for _ in range(len(dfs)-1): \n",
    "    dt.append(dt[-1] + timedelta(seconds=60))\n",
    "\n",
    "dfs['Date'] = dt\n",
    "dfs.set_index('Date', drop=True, inplace=True)\n",
    "dfs = dfs.resample('H').mean()"
   ]
  },
  {
   "cell_type": "code",
   "execution_count": 77,
   "metadata": {
    "scrolled": true
   },
   "outputs": [],
   "source": [
    "# Total Solar power produced by all households combined\n",
    "overall_production = dfs.sum(axis=1)\n",
    "overall_production = overall_production.to_frame()\n",
    "overall_production.columns = ['OverallProd']"
   ]
  },
  {
   "cell_type": "markdown",
   "metadata": {},
   "source": [
    "## Combine with Weather data"
   ]
  },
  {
   "cell_type": "code",
   "execution_count": 147,
   "metadata": {},
   "outputs": [],
   "source": [
    "# Load Weather Data\n",
    "weather = pd.read_csv(\"Weather-AMS/Climate240.csv\", skiprows=27)[:8784]\n",
    "weather.columns = [c.split(' ')[0] for c in weather.columns]\n",
    "weather.Local = dfs.index\n",
    "weather.set_index('Local', inplace=True, drop=True)\n",
    "weather = weather.drop(columns=['ID'])\n",
    "weather = weather.astype(float)"
   ]
  },
  {
   "cell_type": "code",
   "execution_count": 153,
   "metadata": {},
   "outputs": [],
   "source": [
    "# Analyze weather features \n",
    "sns.heatmap(weather.corr(), annot=True, cmap='bwr')\n",
    "plt.rcParams['figure.figsize'] = [20, 12]"
   ]
  },
  {
   "cell_type": "code",
   "execution_count": 149,
   "metadata": {},
   "outputs": [],
   "source": [
    "# Extract necessary columns after analysis (Remove highly correlated features)\n",
    "cols = ['Irradiation', 'Wind', 'Rain', 'Cloud']"
   ]
  },
  {
   "cell_type": "code",
   "execution_count": 171,
   "metadata": {},
   "outputs": [
    {
     "name": "stderr",
     "output_type": "stream",
     "text": [
      "C:\\Users\\work-02\\Anaconda3\\lib\\site-packages\\ipykernel_launcher.py:2: FutureWarning: how in .resample() is deprecated\n",
      "the new syntax is .resample(...).mean()\n",
      "  \n",
      "C:\\Users\\work-02\\Anaconda3\\lib\\site-packages\\ipykernel_launcher.py:3: FutureWarning: how in .resample() is deprecated\n",
      "the new syntax is .resample(...).mean()\n",
      "  This is separate from the ipykernel package so we can avoid doing imports until\n"
     ]
    }
   ],
   "source": [
    "# Combine with overall production data \n",
    "fulldata = weather[cols].resample('D', how='mean')\n",
    "fulldata['OverallProd'] = overall_production['OverallProd'].resample('D', how='mean')\n",
    "fulldata.index = fulldata.index + pd.DateOffset(years=3)"
   ]
  },
  {
   "cell_type": "code",
   "execution_count": 172,
   "metadata": {},
   "outputs": [
    {
     "name": "stderr",
     "output_type": "stream",
     "text": [
      "C:\\Users\\work-02\\Anaconda3\\lib\\site-packages\\ipykernel_launcher.py:9: FutureWarning: how in .resample() is deprecated\n",
      "the new syntax is .resample(...).sum()\n",
      "  if __name__ == '__main__':\n"
     ]
    }
   ],
   "source": [
    "prosumers = [pd.read_csv(i) for i in glob.glob('prosumer_data/*')]\n",
    "consumers = [pd.read_csv(i) for i in glob.glob('consumer_data/*')]\n",
    "production = pd.DataFrame([d.Produced.tolist() for d in prosumers]).sum(axis=0)\n",
    "production.index = pd.to_datetime(consumers[0].date)\n",
    "consumption = pd.DataFrame([d.PowerConsumed.tolist() for d in consumers]).sum(axis=0)\n",
    "consumption.index = pd.to_datetime(consumers[0].date)\n",
    "consumption = consumption.to_frame()\n",
    "consumption.columns = ['PowerConsumed']\n",
    "consumption = consumption.resample('D', how='sum')\n",
    "fulldata['Consumption'] = consumption\n",
    "# fulldata['Production'] = production"
   ]
  },
  {
   "cell_type": "code",
   "execution_count": 164,
   "metadata": {},
   "outputs": [
    {
     "data": {
      "text/html": [
       "<div>\n",
       "<style scoped>\n",
       "    .dataframe tbody tr th:only-of-type {\n",
       "        vertical-align: middle;\n",
       "    }\n",
       "\n",
       "    .dataframe tbody tr th {\n",
       "        vertical-align: top;\n",
       "    }\n",
       "\n",
       "    .dataframe thead th {\n",
       "        text-align: right;\n",
       "    }\n",
       "</style>\n",
       "<table border=\"1\" class=\"dataframe\">\n",
       "  <thead>\n",
       "    <tr style=\"text-align: right;\">\n",
       "      <th></th>\n",
       "      <th>Irradiation</th>\n",
       "      <th>Wind</th>\n",
       "      <th>Rain</th>\n",
       "      <th>Cloud</th>\n",
       "      <th>OverallProd</th>\n",
       "      <th>Consumption</th>\n",
       "      <th>Production</th>\n",
       "    </tr>\n",
       "    <tr>\n",
       "      <th>Local</th>\n",
       "      <th></th>\n",
       "      <th></th>\n",
       "      <th></th>\n",
       "      <th></th>\n",
       "      <th></th>\n",
       "      <th></th>\n",
       "      <th></th>\n",
       "    </tr>\n",
       "  </thead>\n",
       "  <tbody>\n",
       "    <tr>\n",
       "      <th>2019-01-01</th>\n",
       "      <td>20.895708</td>\n",
       "      <td>5.895333</td>\n",
       "      <td>0.121958</td>\n",
       "      <td>5.918333</td>\n",
       "      <td>1.120489</td>\n",
       "      <td>85.534536</td>\n",
       "      <td>16.135041</td>\n",
       "    </tr>\n",
       "    <tr>\n",
       "      <th>2019-01-02</th>\n",
       "      <td>23.181417</td>\n",
       "      <td>6.335417</td>\n",
       "      <td>0.126125</td>\n",
       "      <td>5.521167</td>\n",
       "      <td>0.909072</td>\n",
       "      <td>80.466256</td>\n",
       "      <td>13.090643</td>\n",
       "    </tr>\n",
       "    <tr>\n",
       "      <th>2019-01-03</th>\n",
       "      <td>21.135333</td>\n",
       "      <td>6.475458</td>\n",
       "      <td>0.103292</td>\n",
       "      <td>5.841500</td>\n",
       "      <td>1.200065</td>\n",
       "      <td>84.099239</td>\n",
       "      <td>17.280932</td>\n",
       "    </tr>\n",
       "    <tr>\n",
       "      <th>2019-01-04</th>\n",
       "      <td>20.775125</td>\n",
       "      <td>6.886167</td>\n",
       "      <td>0.089542</td>\n",
       "      <td>6.213167</td>\n",
       "      <td>0.254841</td>\n",
       "      <td>81.264787</td>\n",
       "      <td>3.669712</td>\n",
       "    </tr>\n",
       "    <tr>\n",
       "      <th>2019-01-05</th>\n",
       "      <td>20.245208</td>\n",
       "      <td>6.451125</td>\n",
       "      <td>0.122667</td>\n",
       "      <td>6.102583</td>\n",
       "      <td>0.787124</td>\n",
       "      <td>81.399274</td>\n",
       "      <td>11.334585</td>\n",
       "    </tr>\n",
       "  </tbody>\n",
       "</table>\n",
       "</div>"
      ],
      "text/plain": [
       "            Irradiation      Wind      Rain     Cloud  OverallProd  \\\n",
       "Local                                                                \n",
       "2019-01-01    20.895708  5.895333  0.121958  5.918333     1.120489   \n",
       "2019-01-02    23.181417  6.335417  0.126125  5.521167     0.909072   \n",
       "2019-01-03    21.135333  6.475458  0.103292  5.841500     1.200065   \n",
       "2019-01-04    20.775125  6.886167  0.089542  6.213167     0.254841   \n",
       "2019-01-05    20.245208  6.451125  0.122667  6.102583     0.787124   \n",
       "\n",
       "            Consumption  Production  \n",
       "Local                                \n",
       "2019-01-01    85.534536   16.135041  \n",
       "2019-01-02    80.466256   13.090643  \n",
       "2019-01-03    84.099239   17.280932  \n",
       "2019-01-04    81.264787    3.669712  \n",
       "2019-01-05    81.399274   11.334585  "
      ]
     },
     "execution_count": 164,
     "metadata": {},
     "output_type": "execute_result"
    }
   ],
   "source": [
    "fulldata.head()"
   ]
  },
  {
   "cell_type": "code",
   "execution_count": 179,
   "metadata": {},
   "outputs": [],
   "source": [
    "# datasets\n",
    "X = fulldata.copy().dropna()\n",
    "y_prod = X.OverallProd\n",
    "y_cons = X.Consumption\n",
    "X = X.drop(columns=['OverallProd', 'Consumption'])"
   ]
  },
  {
   "cell_type": "code",
   "execution_count": 193,
   "metadata": {},
   "outputs": [],
   "source": [
    "# Prepare Data, Train XgBoost Regressor and Fit model\n",
    "xtrain, xtest, ytrain, ytest = train_test_split(X, y_prod, shuffle=False)\n",
    "reg_prod = XGBRegressor()\n",
    "reg_prod.fit(xtrain.values, ytrain);\n",
    "\n",
    "xtrain, xtest, ytrain, ytest = train_test_split(X, y_cons, shuffle=False)\n",
    "reg_cons = XGBRegressor()\n",
    "reg_cons.fit(xtrain.values, ytrain);"
   ]
  },
  {
   "cell_type": "code",
   "execution_count": 204,
   "metadata": {},
   "outputs": [],
   "source": [
    "prod_preds = pd.Series(reg_prod.predict(fulldata.drop(columns=['OverallProd', 'Consumption']).values), index=fulldata.index)\n",
    "cons_preds = pd.Series(reg_cons.predict(fulldata.drop(columns=['OverallProd', 'Consumption']).values), index=fulldata.index)"
   ]
  },
  {
   "cell_type": "code",
   "execution_count": 205,
   "metadata": {
    "collapsed": true
   },
   "outputs": [
    {
     "data": {
      "text/plain": [
       "[<matplotlib.lines.Line2D at 0x2a903a6ab00>]"
      ]
     },
     "execution_count": 205,
     "metadata": {},
     "output_type": "execute_result"
    },
    {
     "data": {
      "image/png": "[encoded data removed]",
      "text/plain": [
       "<Figure size 432x288 with 1 Axes>"
      ]
     },
     "metadata": {},
     "output_type": "display_data"
    }
   ],
   "source": [
    "plt.plot(cons_preds)"
   ]
  },
  {
   "cell_type": "code",
   "execution_count": 206,
   "metadata": {
    "collapsed": true
   },
   "outputs": [
    {
     "data": {
      "text/plain": [
       "[<matplotlib.lines.Line2D at 0x2a903ab7a20>]"
      ]
     },
     "execution_count": 206,
     "metadata": {},
     "output_type": "execute_result"
    },
    {
     "data": {
      "image/png": "[encoded data removed]",
      "text/plain": [
       "<Figure size 432x288 with 1 Axes>"
      ]
     },
     "metadata": {},
     "output_type": "display_data"
    }
   ],
   "source": [
    "plt.plot(prod_preds)"
   ]
  },
  {
   "cell_type": "code",
   "execution_count": 194,
   "metadata": {
    "collapsed": true
   },
   "outputs": [
    {
     "data": {
      "text/plain": [
       "(0, 100)"
      ]
     },
     "execution_count": 194,
     "metadata": {},
     "output_type": "execute_result"
    },
    {
     "data": {
      "image/png": "[encoded data removed]",
      "text/plain": [
       "<Figure size 1440x432 with 1 Axes>"
      ]
     },
     "metadata": {},
     "output_type": "display_data"
    }
   ],
   "source": [
    "# Visualize Results\n",
    "plt.figure(figsize=(20, 6))\n",
    "pred = reg_cons.predict(xtest.values)\n",
    "plt.plot(pred[-300:])\n",
    "plt.plot(ytest.tolist()[-300:])\n",
    "plt.ylim((0,100))"
   ]
  },
  {
   "cell_type": "code",
   "execution_count": 220,
   "metadata": {},
   "outputs": [
    {
     "name": "stderr",
     "output_type": "stream",
     "text": [
      "C:\\Users\\work-02\\Anaconda3\\lib\\site-packages\\ipykernel_launcher.py:1: FutureWarning: how in .resample() is deprecated\n",
      "the new syntax is .resample(...).sum()\n",
      "  \"\"\"Entry point for launching an IPython kernel.\n",
      "C:\\Users\\work-02\\Anaconda3\\lib\\site-packages\\ipykernel_launcher.py:2: FutureWarning: how in .resample() is deprecated\n",
      "the new syntax is .resample(...).sum()\n",
      "  \n"
     ]
    },
    {
     "data": {
      "text/html": [
       "<div>\n",
       "<style scoped>\n",
       "    .dataframe tbody tr th:only-of-type {\n",
       "        vertical-align: middle;\n",
       "    }\n",
       "\n",
       "    .dataframe tbody tr th {\n",
       "        vertical-align: top;\n",
       "    }\n",
       "\n",
       "    .dataframe thead th {\n",
       "        text-align: right;\n",
       "    }\n",
       "</style>\n",
       "<table border=\"1\" class=\"dataframe\">\n",
       "  <thead>\n",
       "    <tr style=\"text-align: right;\">\n",
       "      <th></th>\n",
       "      <th>Production</th>\n",
       "      <th>Consumption</th>\n",
       "      <th>Deficit</th>\n",
       "      <th>ProsumersNeeded</th>\n",
       "    </tr>\n",
       "    <tr>\n",
       "      <th>Local</th>\n",
       "      <th></th>\n",
       "      <th></th>\n",
       "      <th></th>\n",
       "      <th></th>\n",
       "    </tr>\n",
       "  </thead>\n",
       "  <tbody>\n",
       "    <tr>\n",
       "      <th>2019-01-31</th>\n",
       "      <td>81.586342</td>\n",
       "      <td>2565.400879</td>\n",
       "      <td>2483.814453</td>\n",
       "      <td>609</td>\n",
       "    </tr>\n",
       "    <tr>\n",
       "      <th>2019-02-28</th>\n",
       "      <td>89.869537</td>\n",
       "      <td>2301.577148</td>\n",
       "      <td>2211.707520</td>\n",
       "      <td>492</td>\n",
       "    </tr>\n",
       "    <tr>\n",
       "      <th>2019-03-31</th>\n",
       "      <td>152.833313</td>\n",
       "      <td>2380.317627</td>\n",
       "      <td>2227.484375</td>\n",
       "      <td>291</td>\n",
       "    </tr>\n",
       "    <tr>\n",
       "      <th>2019-04-30</th>\n",
       "      <td>237.922043</td>\n",
       "      <td>2149.335938</td>\n",
       "      <td>1911.413940</td>\n",
       "      <td>161</td>\n",
       "    </tr>\n",
       "    <tr>\n",
       "      <th>2019-05-31</th>\n",
       "      <td>259.571167</td>\n",
       "      <td>1966.202271</td>\n",
       "      <td>1706.631104</td>\n",
       "      <td>131</td>\n",
       "    </tr>\n",
       "    <tr>\n",
       "      <th>2019-06-30</th>\n",
       "      <td>297.434052</td>\n",
       "      <td>1855.676025</td>\n",
       "      <td>1558.241943</td>\n",
       "      <td>105</td>\n",
       "    </tr>\n",
       "    <tr>\n",
       "      <th>2019-07-31</th>\n",
       "      <td>273.830872</td>\n",
       "      <td>1958.652832</td>\n",
       "      <td>1684.822021</td>\n",
       "      <td>123</td>\n",
       "    </tr>\n",
       "    <tr>\n",
       "      <th>2019-08-31</th>\n",
       "      <td>246.883820</td>\n",
       "      <td>2099.615967</td>\n",
       "      <td>1852.732178</td>\n",
       "      <td>150</td>\n",
       "    </tr>\n",
       "    <tr>\n",
       "      <th>2019-09-30</th>\n",
       "      <td>207.317383</td>\n",
       "      <td>2170.939697</td>\n",
       "      <td>1963.622314</td>\n",
       "      <td>189</td>\n",
       "    </tr>\n",
       "    <tr>\n",
       "      <th>2019-10-31</th>\n",
       "      <td>70.274368</td>\n",
       "      <td>2362.559082</td>\n",
       "      <td>2292.284668</td>\n",
       "      <td>652</td>\n",
       "    </tr>\n",
       "    <tr>\n",
       "      <th>2019-11-30</th>\n",
       "      <td>72.118423</td>\n",
       "      <td>2395.441162</td>\n",
       "      <td>2323.322754</td>\n",
       "      <td>644</td>\n",
       "    </tr>\n",
       "    <tr>\n",
       "      <th>2019-12-31</th>\n",
       "      <td>77.848633</td>\n",
       "      <td>2546.424072</td>\n",
       "      <td>2468.575439</td>\n",
       "      <td>634</td>\n",
       "    </tr>\n",
       "  </tbody>\n",
       "</table>\n",
       "</div>"
      ],
      "text/plain": [
       "            Production  Consumption      Deficit  ProsumersNeeded\n",
       "Local                                                            \n",
       "2019-01-31   81.586342  2565.400879  2483.814453              609\n",
       "2019-02-28   89.869537  2301.577148  2211.707520              492\n",
       "2019-03-31  152.833313  2380.317627  2227.484375              291\n",
       "2019-04-30  237.922043  2149.335938  1911.413940              161\n",
       "2019-05-31  259.571167  1966.202271  1706.631104              131\n",
       "2019-06-30  297.434052  1855.676025  1558.241943              105\n",
       "2019-07-31  273.830872  1958.652832  1684.822021              123\n",
       "2019-08-31  246.883820  2099.615967  1852.732178              150\n",
       "2019-09-30  207.317383  2170.939697  1963.622314              189\n",
       "2019-10-31   70.274368  2362.559082  2292.284668              652\n",
       "2019-11-30   72.118423  2395.441162  2323.322754              644\n",
       "2019-12-31   77.848633  2546.424072  2468.575439              634"
      ]
     },
     "execution_count": 220,
     "metadata": {},
     "output_type": "execute_result"
    }
   ],
   "source": [
    "res = pd.DataFrame({'Production': prod_preds.resample('M', how='sum'), \n",
    "                    'Consumption': cons_preds.resample('M', how='sum')}).sort_index() \n",
    "res['Deficit'] = res.Consumption - res.Production\n",
    "res['ProsumersNeeded'] =  round(res.Deficit/(res.Production/20)).astype(int)\n",
    "res"
   ]
  },
  {
   "cell_type": "code",
   "execution_count": 183,
   "metadata": {},
   "outputs": [],
   "source": [
    "# Define metric to determine prediction error\n",
    "def rmse(y_true, y_pred): \n",
    "    return np.sqrt(mean_squared_error(y_true, y_pred))"
   ]
  },
  {
   "cell_type": "code",
   "execution_count": 190,
   "metadata": {},
   "outputs": [
    {
     "data": {
      "text/plain": [
       "0.09169684108488992"
      ]
     },
     "execution_count": 190,
     "metadata": {},
     "output_type": "execute_result"
    }
   ],
   "source": [
    "# Check error metric\n",
    "rmse(pred, ytest.tolist())/max(ytest)"
   ]
  },
  {
   "cell_type": "markdown",
   "metadata": {
    "heading_collapsed": true
   },
   "source": [
    "## Inference"
   ]
  },
  {
   "cell_type": "code",
   "execution_count": 179,
   "metadata": {
    "collapsed": true,
    "hidden": true
   },
   "outputs": [
    {
     "data": {
      "text/html": [
       "<div>\n",
       "<style scoped>\n",
       "    .dataframe tbody tr th:only-of-type {\n",
       "        vertical-align: middle;\n",
       "    }\n",
       "\n",
       "    .dataframe tbody tr th {\n",
       "        vertical-align: top;\n",
       "    }\n",
       "\n",
       "    .dataframe thead th {\n",
       "        text-align: right;\n",
       "    }\n",
       "</style>\n",
       "<table border=\"1\" class=\"dataframe\">\n",
       "  <thead>\n",
       "    <tr style=\"text-align: right;\">\n",
       "      <th></th>\n",
       "      <th>Irradiation</th>\n",
       "      <th>Wind</th>\n",
       "      <th>Rain</th>\n",
       "      <th>Cloud</th>\n",
       "    </tr>\n",
       "    <tr>\n",
       "      <th>Local</th>\n",
       "      <th></th>\n",
       "      <th></th>\n",
       "      <th></th>\n",
       "      <th></th>\n",
       "    </tr>\n",
       "  </thead>\n",
       "  <tbody>\n",
       "    <tr>\n",
       "      <th>2016-01-01 00:00:00</th>\n",
       "      <td>0.0</td>\n",
       "      <td>5.528</td>\n",
       "      <td>0.065</td>\n",
       "      <td>6.285</td>\n",
       "    </tr>\n",
       "    <tr>\n",
       "      <th>2016-01-01 01:00:00</th>\n",
       "      <td>0.0</td>\n",
       "      <td>5.487</td>\n",
       "      <td>0.086</td>\n",
       "      <td>5.931</td>\n",
       "    </tr>\n",
       "    <tr>\n",
       "      <th>2016-01-01 02:00:00</th>\n",
       "      <td>0.0</td>\n",
       "      <td>5.659</td>\n",
       "      <td>0.103</td>\n",
       "      <td>5.526</td>\n",
       "    </tr>\n",
       "    <tr>\n",
       "      <th>2016-01-01 03:00:00</th>\n",
       "      <td>0.0</td>\n",
       "      <td>5.739</td>\n",
       "      <td>0.065</td>\n",
       "      <td>5.448</td>\n",
       "    </tr>\n",
       "    <tr>\n",
       "      <th>2016-01-01 04:00:00</th>\n",
       "      <td>0.0</td>\n",
       "      <td>5.553</td>\n",
       "      <td>0.058</td>\n",
       "      <td>5.832</td>\n",
       "    </tr>\n",
       "  </tbody>\n",
       "</table>\n",
       "</div>"
      ],
      "text/plain": [
       "                     Irradiation   Wind   Rain  Cloud\n",
       "Local                                                \n",
       "2016-01-01 00:00:00          0.0  5.528  0.065  6.285\n",
       "2016-01-01 01:00:00          0.0  5.487  0.086  5.931\n",
       "2016-01-01 02:00:00          0.0  5.659  0.103  5.526\n",
       "2016-01-01 03:00:00          0.0  5.739  0.065  5.448\n",
       "2016-01-01 04:00:00          0.0  5.553  0.058  5.832"
      ]
     },
     "execution_count": 179,
     "metadata": {},
     "output_type": "execute_result"
    }
   ],
   "source": [
    "weather[cols].head()"
   ]
  },
  {
   "cell_type": "code",
   "execution_count": 279,
   "metadata": {
    "hidden": true
   },
   "outputs": [],
   "source": [
    "dfX = X[X.columns[X.columns.str.contains('t-')]].loc[:'2016-07-01']"
   ]
  },
  {
   "cell_type": "code",
   "execution_count": 281,
   "metadata": {
    "collapsed": true,
    "hidden": true
   },
   "outputs": [
    {
     "data": {
      "text/html": [
       "<div>\n",
       "<style scoped>\n",
       "    .dataframe tbody tr th:only-of-type {\n",
       "        vertical-align: middle;\n",
       "    }\n",
       "\n",
       "    .dataframe tbody tr th {\n",
       "        vertical-align: top;\n",
       "    }\n",
       "\n",
       "    .dataframe thead th {\n",
       "        text-align: right;\n",
       "    }\n",
       "</style>\n",
       "<table border=\"1\" class=\"dataframe\">\n",
       "  <thead>\n",
       "    <tr style=\"text-align: right;\">\n",
       "      <th></th>\n",
       "      <th>Irradiation</th>\n",
       "      <th>T_ambient</th>\n",
       "      <th>T_ground</th>\n",
       "      <th>Wind</th>\n",
       "      <th>Cloud</th>\n",
       "      <th>Pressure</th>\n",
       "      <th>Rain</th>\n",
       "      <th>Diffuse</th>\n",
       "      <th>Direct</th>\n",
       "      <th>Elevation</th>\n",
       "      <th>Azimuth</th>\n",
       "      <th>OverallProd</th>\n",
       "    </tr>\n",
       "    <tr>\n",
       "      <th>Local</th>\n",
       "      <th></th>\n",
       "      <th></th>\n",
       "      <th></th>\n",
       "      <th></th>\n",
       "      <th></th>\n",
       "      <th></th>\n",
       "      <th></th>\n",
       "      <th></th>\n",
       "      <th></th>\n",
       "      <th></th>\n",
       "      <th></th>\n",
       "      <th></th>\n",
       "    </tr>\n",
       "  </thead>\n",
       "  <tbody>\n",
       "    <tr>\n",
       "      <th>2016-01-01 00:00:00</th>\n",
       "      <td>0.0</td>\n",
       "      <td>3.526</td>\n",
       "      <td>2.251</td>\n",
       "      <td>5.528</td>\n",
       "      <td>6.285</td>\n",
       "      <td>101490.537</td>\n",
       "      <td>0.065</td>\n",
       "      <td>0.0</td>\n",
       "      <td>0.0</td>\n",
       "      <td>-59.404</td>\n",
       "      <td>21.082</td>\n",
       "      <td>0.0</td>\n",
       "    </tr>\n",
       "    <tr>\n",
       "      <th>2016-01-01 01:00:00</th>\n",
       "      <td>0.0</td>\n",
       "      <td>3.338</td>\n",
       "      <td>2.169</td>\n",
       "      <td>5.487</td>\n",
       "      <td>5.931</td>\n",
       "      <td>101493.543</td>\n",
       "      <td>0.086</td>\n",
       "      <td>0.0</td>\n",
       "      <td>0.0</td>\n",
       "      <td>-54.394</td>\n",
       "      <td>44.796</td>\n",
       "      <td>0.0</td>\n",
       "    </tr>\n",
       "    <tr>\n",
       "      <th>2016-01-01 02:00:00</th>\n",
       "      <td>0.0</td>\n",
       "      <td>3.175</td>\n",
       "      <td>2.093</td>\n",
       "      <td>5.659</td>\n",
       "      <td>5.526</td>\n",
       "      <td>101487.139</td>\n",
       "      <td>0.103</td>\n",
       "      <td>0.0</td>\n",
       "      <td>0.0</td>\n",
       "      <td>-46.972</td>\n",
       "      <td>63.270</td>\n",
       "      <td>0.0</td>\n",
       "    </tr>\n",
       "  </tbody>\n",
       "</table>\n",
       "</div>"
      ],
      "text/plain": [
       "                     Irradiation  T_ambient  T_ground   Wind  Cloud  \\\n",
       "Local                                                                 \n",
       "2016-01-01 00:00:00          0.0      3.526     2.251  5.528  6.285   \n",
       "2016-01-01 01:00:00          0.0      3.338     2.169  5.487  5.931   \n",
       "2016-01-01 02:00:00          0.0      3.175     2.093  5.659  5.526   \n",
       "\n",
       "                       Pressure   Rain  Diffuse  Direct  Elevation  Azimuth  \\\n",
       "Local                                                                         \n",
       "2016-01-01 00:00:00  101490.537  0.065      0.0     0.0    -59.404   21.082   \n",
       "2016-01-01 01:00:00  101493.543  0.086      0.0     0.0    -54.394   44.796   \n",
       "2016-01-01 02:00:00  101487.139  0.103      0.0     0.0    -46.972   63.270   \n",
       "\n",
       "                     OverallProd  \n",
       "Local                             \n",
       "2016-01-01 00:00:00          0.0  \n",
       "2016-01-01 01:00:00          0.0  \n",
       "2016-01-01 02:00:00          0.0  "
      ]
     },
     "execution_count": 281,
     "metadata": {},
     "output_type": "execute_result"
    }
   ],
   "source": [
    "weather.head(3)"
   ]
  },
  {
   "cell_type": "code",
   "execution_count": 282,
   "metadata": {
    "collapsed": true,
    "hidden": true
   },
   "outputs": [
    {
     "data": {
      "text/plain": [
       "t-1     0.021282\n",
       "t-2     1.046733\n",
       "t-3     2.339030\n",
       "t-4     7.806616\n",
       "t-5    15.365277\n",
       "t-6    19.608005\n",
       "t-7    27.032374\n",
       "Name: 2016-06-30 23:00:00, dtype: float64"
      ]
     },
     "execution_count": 282,
     "metadata": {},
     "output_type": "execute_result"
    }
   ],
   "source": [
    "dfX.iloc[-1]"
   ]
  },
  {
   "cell_type": "code",
   "execution_count": 283,
   "metadata": {
    "collapsed": true,
    "hidden": true
   },
   "outputs": [
    {
     "data": {
      "text/plain": [
       "array([2.12819833e-02, 1.04673250e+00, 2.33903025e+00, 7.80661563e+00,\n",
       "       1.53652767e+01, 1.96080046e+01, 2.70323740e+01])"
      ]
     },
     "execution_count": 283,
     "metadata": {},
     "output_type": "execute_result"
    }
   ],
   "source": [
    "dfX.iloc[-1].values"
   ]
  },
  {
   "cell_type": "code",
   "execution_count": 284,
   "metadata": {
    "collapsed": true,
    "hidden": true
   },
   "outputs": [
    {
     "data": {
      "text/html": [
       "<div>\n",
       "<style scoped>\n",
       "    .dataframe tbody tr th:only-of-type {\n",
       "        vertical-align: middle;\n",
       "    }\n",
       "\n",
       "    .dataframe tbody tr th {\n",
       "        vertical-align: top;\n",
       "    }\n",
       "\n",
       "    .dataframe thead th {\n",
       "        text-align: right;\n",
       "    }\n",
       "</style>\n",
       "<table border=\"1\" class=\"dataframe\">\n",
       "  <thead>\n",
       "    <tr style=\"text-align: right;\">\n",
       "      <th></th>\n",
       "      <th>Irradiation</th>\n",
       "      <th>Wind</th>\n",
       "      <th>Rain</th>\n",
       "      <th>Cloud</th>\n",
       "    </tr>\n",
       "    <tr>\n",
       "      <th>Local</th>\n",
       "      <th></th>\n",
       "      <th></th>\n",
       "      <th></th>\n",
       "      <th></th>\n",
       "    </tr>\n",
       "  </thead>\n",
       "  <tbody>\n",
       "    <tr>\n",
       "      <th>2016-01-01 00:00:00</th>\n",
       "      <td>0.0</td>\n",
       "      <td>5.528</td>\n",
       "      <td>0.065</td>\n",
       "      <td>6.285</td>\n",
       "    </tr>\n",
       "    <tr>\n",
       "      <th>2016-01-01 01:00:00</th>\n",
       "      <td>0.0</td>\n",
       "      <td>5.487</td>\n",
       "      <td>0.086</td>\n",
       "      <td>5.931</td>\n",
       "    </tr>\n",
       "    <tr>\n",
       "      <th>2016-01-01 02:00:00</th>\n",
       "      <td>0.0</td>\n",
       "      <td>5.659</td>\n",
       "      <td>0.103</td>\n",
       "      <td>5.526</td>\n",
       "    </tr>\n",
       "  </tbody>\n",
       "</table>\n",
       "</div>"
      ],
      "text/plain": [
       "                     Irradiation   Wind   Rain  Cloud\n",
       "Local                                                \n",
       "2016-01-01 00:00:00          0.0  5.528  0.065  6.285\n",
       "2016-01-01 01:00:00          0.0  5.487  0.086  5.931\n",
       "2016-01-01 02:00:00          0.0  5.659  0.103  5.526"
      ]
     },
     "execution_count": 284,
     "metadata": {},
     "output_type": "execute_result"
    }
   ],
   "source": [
    "weather[cols].head(3)"
   ]
  },
  {
   "cell_type": "code",
   "execution_count": 290,
   "metadata": {
    "collapsed": true,
    "hidden": true
   },
   "outputs": [
    {
     "data": {
      "text/plain": [
       "Irradiation         0.000\n",
       "T_ambient          14.921\n",
       "T_ground           13.025\n",
       "Wind                3.698\n",
       "Cloud               4.577\n",
       "Pressure       101456.020\n",
       "Rain                0.093\n",
       "Diffuse             0.000\n",
       "Direct              0.000\n",
       "Elevation         -14.492\n",
       "Azimuth           349.192\n",
       "OverallProd         0.000\n",
       "Name: 2016-06-30 23:00:00, dtype: float64"
      ]
     },
     "execution_count": 290,
     "metadata": {},
     "output_type": "execute_result"
    }
   ],
   "source": [
    "weather.loc[dt]"
   ]
  },
  {
   "cell_type": "code",
   "execution_count": 293,
   "metadata": {
    "collapsed": true,
    "hidden": true
   },
   "outputs": [
    {
     "data": {
      "text/plain": [
       "t-1     0.021282\n",
       "t-2     1.046733\n",
       "t-3     2.339030\n",
       "t-4     7.806616\n",
       "t-5    15.365277\n",
       "t-6    19.608005\n",
       "Name: 2016-06-30 23:00:00, dtype: float64"
      ]
     },
     "execution_count": 293,
     "metadata": {},
     "output_type": "execute_result"
    }
   ],
   "source": [
    "dfX.iloc[-1][:-1]"
   ]
  },
  {
   "cell_type": "code",
   "execution_count": 297,
   "metadata": {
    "hidden": true
   },
   "outputs": [],
   "source": [
    "dfWeather = weather[cols]"
   ]
  },
  {
   "cell_type": "code",
   "execution_count": 299,
   "metadata": {
    "hidden": true
   },
   "outputs": [
    {
     "data": {
      "text/plain": [
       "[0.0, 3.698, 0.093, 4.577]"
      ]
     },
     "execution_count": 299,
     "metadata": {},
     "output_type": "execute_result"
    }
   ],
   "source": [
    "list(dfWeather.loc[curtime])"
   ]
  },
  {
   "cell_type": "code",
   "execution_count": 306,
   "metadata": {
    "hidden": true
   },
   "outputs": [
    {
     "data": {
      "text/plain": [
       "array([-0.0874691], dtype=float32)"
      ]
     },
     "execution_count": 306,
     "metadata": {},
     "output_type": "execute_result"
    }
   ],
   "source": [
    "xgb.predict( curx)"
   ]
  },
  {
   "cell_type": "code",
   "execution_count": 341,
   "metadata": {
    "hidden": true
   },
   "outputs": [],
   "source": [
    "curx = list(dfWeather.loc[curtime]) + list(dfX.iloc[-1])\n",
    "preds = []\n",
    "for i in range(96):\n",
    "    curtime = dfX.iloc[-1].name + timedelta(hours=i)\n",
    "    pred = xgb.predict(curx)\n",
    "    preds.append(pred)\n",
    "    curx = list(dfWeather.loc[curtime]) + [pred] + list(dfX.iloc[-1][:-1])"
   ]
  },
  {
   "cell_type": "code",
   "execution_count": 336,
   "metadata": {
    "collapsed": true,
    "hidden": true
   },
   "outputs": [
    {
     "data": {
      "text/plain": [
       "Local\n",
       "2016-06-30 00:00:00     0.000000\n",
       "2016-06-30 01:00:00     0.000000\n",
       "2016-06-30 02:00:00     0.000000\n",
       "2016-06-30 03:00:00     0.000000\n",
       "2016-06-30 04:00:00     0.000000\n",
       "2016-06-30 05:00:00     0.125846\n",
       "2016-06-30 06:00:00     1.013736\n",
       "2016-06-30 07:00:00     3.293686\n",
       "2016-06-30 08:00:00     4.956695\n",
       "2016-06-30 09:00:00     5.151559\n",
       "2016-06-30 10:00:00     7.943938\n",
       "2016-06-30 11:00:00     9.500200\n",
       "2016-06-30 12:00:00    10.038170\n",
       "2016-06-30 13:00:00    15.691333\n",
       "2016-06-30 14:00:00    23.177123\n",
       "2016-06-30 15:00:00    27.707010\n",
       "2016-06-30 16:00:00    27.032374\n",
       "2016-06-30 17:00:00    19.608005\n",
       "2016-06-30 18:00:00    15.365277\n",
       "2016-06-30 19:00:00     7.806616\n",
       "2016-06-30 20:00:00     2.339030\n",
       "2016-06-30 21:00:00     1.046733\n",
       "2016-06-30 22:00:00     0.021282\n",
       "2016-06-30 23:00:00     0.000000\n",
       "2016-07-01 00:00:00     0.000000\n",
       "2016-07-01 01:00:00     0.000000\n",
       "2016-07-01 02:00:00     0.000000\n",
       "2016-07-01 03:00:00     0.000000\n",
       "2016-07-01 04:00:00     0.000000\n",
       "2016-07-01 05:00:00     0.068594\n",
       "                         ...    \n",
       "2016-07-02 18:00:00    13.210078\n",
       "2016-07-02 19:00:00     7.846791\n",
       "2016-07-02 20:00:00     3.511254\n",
       "2016-07-02 21:00:00     1.233075\n",
       "2016-07-02 22:00:00     0.024667\n",
       "2016-07-02 23:00:00     0.000000\n",
       "2016-07-03 00:00:00     0.000000\n",
       "2016-07-03 01:00:00     0.000000\n",
       "2016-07-03 02:00:00     0.000000\n",
       "2016-07-03 03:00:00     0.000000\n",
       "2016-07-03 04:00:00     0.000000\n",
       "2016-07-03 05:00:00     0.044787\n",
       "2016-07-03 06:00:00     0.236772\n",
       "2016-07-03 07:00:00     0.588751\n",
       "2016-07-03 08:00:00     1.090203\n",
       "2016-07-03 09:00:00     2.766320\n",
       "2016-07-03 10:00:00     5.594728\n",
       "2016-07-03 11:00:00     5.270605\n",
       "2016-07-03 12:00:00     4.297164\n",
       "2016-07-03 13:00:00     5.720678\n",
       "2016-07-03 14:00:00     7.091835\n",
       "2016-07-03 15:00:00     7.799791\n",
       "2016-07-03 16:00:00     3.362261\n",
       "2016-07-03 17:00:00     5.166405\n",
       "2016-07-03 18:00:00     7.877703\n",
       "2016-07-03 19:00:00     5.001839\n",
       "2016-07-03 20:00:00     2.575920\n",
       "2016-07-03 21:00:00     1.234871\n",
       "2016-07-03 22:00:00     0.023099\n",
       "2016-07-03 23:00:00     0.000000\n",
       "Name: OverallProd, Length: 96, dtype: float64"
      ]
     },
     "execution_count": 336,
     "metadata": {},
     "output_type": "execute_result"
    }
   ],
   "source": [
    "fulldata.OverallProd.loc['2016-06-30':'2016-07-03']"
   ]
  },
  {
   "cell_type": "code",
   "execution_count": 343,
   "metadata": {
    "collapsed": true,
    "hidden": true
   },
   "outputs": [
    {
     "data": {
      "text/plain": [
       "[<matplotlib.lines.Line2D at 0x7fa932133a90>]"
      ]
     },
     "execution_count": 343,
     "metadata": {},
     "output_type": "execute_result"
    },
    {
     "data": {
      "image/png": "[encoded data removed]",
      "text/plain": [
       "<Figure size 720x432 with 1 Axes>"
      ]
     },
     "metadata": {},
     "output_type": "display_data"
    }
   ],
   "source": [
    "plt.figure(figsize=(10, 6))\n",
    "plt.plot(preds)\n",
    "plt.plot(fulldata.OverallProd.loc['2016-06-30':'2016-07-03'].tolist())"
   ]
  },
  {
   "cell_type": "code",
   "execution_count": null,
   "metadata": {
    "hidden": true
   },
   "outputs": [],
   "source": [
    "y_hat = xgb.predict(wdf.iloc[-1])"
   ]
  },
  {
   "cell_type": "code",
   "execution_count": 542,
   "metadata": {
    "hidden": true
   },
   "outputs": [
    {
     "ename": "TypeError",
     "evalue": "must be str, not datetime.timedelta",
     "output_type": "error",
     "traceback": [
      "\u001b[0;31m---------------------------------------------------------------------------\u001b[0m",
      "\u001b[0;31mTypeError\u001b[0m                                 Traceback (most recent call last)",
      "\u001b[0;32m<ipython-input-542-4d43e3382f99>\u001b[0m in \u001b[0;36m<module>\u001b[0;34m()\u001b[0m\n\u001b[0;32m----> 1\u001b[0;31m \u001b[0;34m'2016-07-01 00:00:00'\u001b[0m \u001b[0;34m+\u001b[0m \u001b[0mtimedelta\u001b[0m\u001b[0;34m(\u001b[0m\u001b[0mhours\u001b[0m\u001b[0;34m=\u001b[0m\u001b[0;36m24\u001b[0m\u001b[0;34m)\u001b[0m\u001b[0;34m\u001b[0m\u001b[0;34m\u001b[0m\u001b[0m\n\u001b[0m",
      "\u001b[0;31mTypeError\u001b[0m: must be str, not datetime.timedelta"
     ]
    }
   ],
   "source": [
    "'2016-07-01 00:00:00' + timedelta(hours=24)"
   ]
  },
  {
   "cell_type": "code",
   "execution_count": 543,
   "metadata": {
    "hidden": true
   },
   "outputs": [
    {
     "data": {
      "text/plain": [
       "datetime.datetime(2016, 7, 2, 0, 0)"
      ]
     },
     "execution_count": 543,
     "metadata": {},
     "output_type": "execute_result"
    }
   ],
   "source": [
    "datetime(2016, 7, 1) + timedelta(hours=24)"
   ]
  },
  {
   "cell_type": "code",
   "execution_count": 572,
   "metadata": {
    "hidden": true
   },
   "outputs": [],
   "source": [
    "dfX = X.copy()"
   ]
  },
  {
   "cell_type": "code",
   "execution_count": 553,
   "metadata": {
    "hidden": true
   },
   "outputs": [],
   "source": [
    "curtime = datetime(2016, 7, 1)"
   ]
  },
  {
   "cell_type": "code",
   "execution_count": 567,
   "metadata": {
    "hidden": true
   },
   "outputs": [],
   "source": [
    "import joblib"
   ]
  },
  {
   "cell_type": "code",
   "execution_count": 573,
   "metadata": {
    "hidden": true
   },
   "outputs": [],
   "source": [
    "joblib.dump(xgb, 'inference/xgboost_weather_only.joblib')\n",
    "dfX.to_pickle('inference/weather_data_shifted.csv')"
   ]
  },
  {
   "cell_type": "markdown",
   "metadata": {},
   "source": [
    "## INFERENCE"
   ]
  },
  {
   "cell_type": "code",
   "execution_count": 574,
   "metadata": {},
   "outputs": [],
   "source": [
    "xgb = joblib.load( 'inference/xgboost_weather_only.joblib')\n",
    "dfX = pd.read_pickle('inference/weather_data_shifted.csv')"
   ]
  },
  {
   "cell_type": "code",
   "execution_count": 578,
   "metadata": {},
   "outputs": [
    {
     "data": {
      "text/plain": [
       "array([ 6.23875856e-02,  8.67816806e-03,  8.67816806e-03, -2.08669901e-02,\n",
       "       -6.41813874e-02,  4.46741283e-02,  1.45303237e+00,  5.11038399e+00,\n",
       "        8.91939735e+00,  1.49183855e+01,  1.83841877e+01,  2.03157978e+01,\n",
       "        2.28488922e+01,  2.25096493e+01,  1.88774128e+01,  1.83201923e+01,\n",
       "        1.95195885e+01,  1.66893196e+01,  1.17347918e+01,  8.84649181e+00,\n",
       "        3.63238192e+00,  1.38409281e+00,  1.16140485e-01,  6.23875856e-02,\n",
       "        6.23875856e-02], dtype=float32)"
      ]
     },
     "execution_count": 578,
     "metadata": {},
     "output_type": "execute_result"
    }
   ],
   "source": [
    "preds"
   ]
  },
  {
   "cell_type": "code",
   "execution_count": 581,
   "metadata": {},
   "outputs": [],
   "source": [
    "def infer_next(df, regressor, hours=24, curtime=datetime(2016, 7, 1)):\n",
    "    XX = df.loc[curtime:curtime + timedelta(hours=hours)]\n",
    "    XX.index\n",
    "    preds = xgb.predict(XX.values)\n",
    "    return pd.Series(preds, XX.index)\n",
    "preds = infer_next(dfX, xgb)"
   ]
  },
  {
   "cell_type": "code",
   "execution_count": 583,
   "metadata": {},
   "outputs": [
    {
     "data": {
      "text/plain": [
       "Local\n",
       "2016-07-01 00:00:00    0.062388\n",
       "2016-07-01 01:00:00    0.008678\n",
       "2016-07-01 02:00:00    0.008678\n",
       "dtype: float32"
      ]
     },
     "execution_count": 583,
     "metadata": {},
     "output_type": "execute_result"
    }
   ],
   "source": []
  },
  {
   "cell_type": "code",
   "execution_count": 577,
   "metadata": {},
   "outputs": [
    {
     "data": {
      "text/plain": [
       "[<matplotlib.lines.Line2D at 0x7fa8d30e23c8>]"
      ]
     },
     "execution_count": 577,
     "metadata": {},
     "output_type": "execute_result"
    },
    {
     "data": {
      "image/png": "[encoded data removed]",
      "text/plain": [
       "<Figure size 864x864 with 1 Axes>"
      ]
     },
     "metadata": {},
     "output_type": "display_data"
    }
   ],
   "source": [
    "plt.plot(preds)\n",
    "plt.plot(y.loc[curtime:curtime + timedelta(hours=24)].tolist())"
   ]
  }
 ],
 "metadata": {
  "kernelspec": {
   "display_name": "Python 3",
   "language": "python",
   "name": "python3"
  },
  "language_info": {
   "codemirror_mode": {
    "name": "ipython",
    "version": 3
   },
   "file_extension": ".py",
   "mimetype": "text/x-python",
   "name": "python",
   "nbconvert_exporter": "python",
   "pygments_lexer": "ipython3",
   "version": "3.6.5"
  },
  "varInspector": {
   "cols": {
    "lenName": 16,
    "lenType": 16,
    "lenVar": 40
   },
   "kernels_config": {
    "python": {
     "delete_cmd_postfix": "",
     "delete_cmd_prefix": "del ",
     "library": "var_list.py",
     "varRefreshCmd": "print(var_dic_list())"
    },
    "r": {
     "delete_cmd_postfix": ") ",
     "delete_cmd_prefix": "rm(",
     "library": "var_list.r",
     "varRefreshCmd": "cat(var_dic_list()) "
    }
   },
   "position": {
    "height": "360px",
    "left": "1336.67px",
    "right": "20px",
    "top": "120px",
    "width": "350px"
   },
   "types_to_exclude": [
    "module",
    "function",
    "builtin_function_or_method",
    "instance",
    "_Feature"
   ],
   "window_display": false
  }
 },
 "nbformat": 4,
 "nbformat_minor": 2
}
